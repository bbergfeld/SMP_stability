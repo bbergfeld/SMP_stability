{
 "cells": [
  {
   "cell_type": "markdown",
   "id": "0e860028-7dbd-46b3-a5f1-65451e12097e",
   "metadata": {},
   "source": [
    "# This script aims to prototype all parametrizations which are necessary for mechanical models"
   ]
  },
  {
   "cell_type": "code",
   "execution_count": 13,
   "id": "285af9ee-8cfb-4af9-b204-f818043f230f",
   "metadata": {},
   "outputs": [],
   "source": [
    "from lxml import etree as et\n",
    "import os\n",
    "import pandas as pd\n",
    "caaml_ns = \"{http://caaml.org/Schemas/SnowProfileIACS/v6.0.3}\"\n",
    "\n",
    "def mm2m(df):\n",
    "    return(df/1000)"
   ]
  },
  {
   "cell_type": "code",
   "execution_count": 2,
   "id": "d909a611-2cc2-49cf-87f1-12d015968575",
   "metadata": {},
   "outputs": [],
   "source": [
    "smp_deriv_file_path = '.pnt_data\\\\190110_BUN\\\\SMP\\\\FILE0245_smp_ful.pkl'  # Replace with a template file_path\n",
    "layered_file_path = '.pnt_data\\\\190110_BUN\\\\SMP\\\\FILE0245_smp_lay.pkl'  # Replace with a template file_path"
   ]
  },
  {
   "cell_type": "markdown",
   "id": "c6db5403-28a6-495d-adf5-e1145ab180fd",
   "metadata": {},
   "source": [
    "# read the SMP micromechanical properties from pickle"
   ]
  },
  {
   "cell_type": "code",
   "execution_count": 8,
   "id": "2e17bad4-c070-4bef-90aa-0dffcf97b6b6",
   "metadata": {},
   "outputs": [],
   "source": [
    "df_pkl = pd.read_pickle(smp_deriv_file_path)\n",
    "df_pkl_layered = pd.read_pickle(layered_file_path)"
   ]
  },
  {
   "cell_type": "code",
   "execution_count": 9,
   "id": "5b4f60e8-2fe4-46aa-bd40-f2a5be4fe477",
   "metadata": {},
   "outputs": [],
   "source": [
    "from Emod_parametrizations import e_gerling_2017_AC\n",
    "df_pkl_layered['G2017_E_AC'] = df_pkl_layered['CR2020_density'].apply(e_gerling_2017_AC) "
   ]
  },
  {
   "cell_type": "markdown",
   "id": "701b2d3b-4263-43c0-ab00-07e85e8c459c",
   "metadata": {},
   "source": [
    "### Parametrizations from Johnson Schneebeli 1999 (Characterizing the microstructural and micromechanical properties of snow)"
   ]
  },
  {
   "cell_type": "code",
   "execution_count": 10,
   "id": "3c4ceffa-a9d4-4f46-a5b2-14e2582c51ca",
   "metadata": {},
   "outputs": [],
   "source": [
    "df_pkl_layered[\"JS1999_sigma_n\"] = df_pkl_layered.L2012_f0 / (df_pkl_layered.L2012_L * df_pkl_layered.L2012_L)\n",
    "df_pkl_layered[\"JS1999_sigma_macro\"] = df_pkl_layered.JS1999_sigma_n * (df_pkl_layered.L2012_delta / df_pkl_layered.L2012_L)"
   ]
  },
  {
   "cell_type": "markdown",
   "id": "b4b7329d-2083-4426-a008-839c544520d2",
   "metadata": {},
   "source": [
    "### --> compute load of for each layer"
   ]
  },
  {
   "cell_type": "code",
   "execution_count": 27,
   "id": "ebf0f08f-a995-4303-a178-ea54df1cd121",
   "metadata": {},
   "outputs": [],
   "source": [
    "layer_weight = df_pkl_layered.CR2020_density * mm2m(df_pkl_layered.thickness) # kg/m^2\n",
    "layer_weight = layer_weight.cumsum().shift(1, fill_value=0) # adding up the weight and just taking the weights above\n",
    "layer_weight = layer_weight * 9.81 # kg/m^2 * m/s^2 = N/m^2 = Pa\n",
    "df_pkl_layered[\"load_above\"] = layer_weight\n",
    "df_pkl_layered.load_above.attrs['unit'] = \"kg/m^2\""
   ]
  },
  {
   "cell_type": "code",
   "execution_count": null,
   "id": "790c78da-533e-467c-926a-70ce20b09f95",
   "metadata": {},
   "outputs": [],
   "source": [
    "df_pkl_layered.load_above.attrs['unit'] = \"kg/m^2\""
   ]
  },
  {
   "cell_type": "markdown",
   "id": "368e6e3c-77c2-488e-ab13-ebe6e5fe422f",
   "metadata": {},
   "source": [
    "### --> use weac to compute (skier) shear stress for each layer"
   ]
  },
  {
   "cell_type": "code",
   "execution_count": null,
   "id": "14a2cf5f-ec68-4ee8-b92d-a5c5b64ccf3d",
   "metadata": {},
   "outputs": [],
   "source": []
  },
  {
   "cell_type": "code",
   "execution_count": null,
   "id": "8bcf6edf-0b38-4313-a044-dd196fb5594d",
   "metadata": {},
   "outputs": [],
   "source": []
  },
  {
   "cell_type": "code",
   "execution_count": null,
   "id": "f5a479de-37ba-4ee3-aa41-ec1c886760ea",
   "metadata": {},
   "outputs": [],
   "source": []
  },
  {
   "cell_type": "code",
   "execution_count": null,
   "id": "94bebbad-975e-40a3-a6d6-2d28ee6a04ca",
   "metadata": {},
   "outputs": [],
   "source": []
  },
  {
   "cell_type": "code",
   "execution_count": null,
   "id": "db7a52a5-0d33-4c05-8c97-8fe3519860b6",
   "metadata": {},
   "outputs": [],
   "source": []
  },
  {
   "cell_type": "code",
   "execution_count": null,
   "id": "57413dcc-6021-4b1e-ba77-071b2c0e977f",
   "metadata": {},
   "outputs": [],
   "source": []
  },
  {
   "cell_type": "code",
   "execution_count": null,
   "id": "d98a617d-094c-4c7d-bcfe-82e379ee1cb6",
   "metadata": {},
   "outputs": [],
   "source": []
  },
  {
   "cell_type": "code",
   "execution_count": null,
   "id": "8eeb187c-1157-41f5-a948-a4284566f0c6",
   "metadata": {},
   "outputs": [],
   "source": []
  },
  {
   "cell_type": "code",
   "execution_count": null,
   "id": "84060d58-fccb-4834-857f-f952e33bd206",
   "metadata": {},
   "outputs": [],
   "source": []
  },
  {
   "cell_type": "code",
   "execution_count": null,
   "id": "a31a026a-791f-42f9-bcee-7305356b2546",
   "metadata": {},
   "outputs": [],
   "source": []
  },
  {
   "cell_type": "code",
   "execution_count": null,
   "id": "6bd075cc-5f89-4143-9d42-cce136203b92",
   "metadata": {},
   "outputs": [],
   "source": []
  },
  {
   "cell_type": "code",
   "execution_count": null,
   "id": "3e910991-a6b8-4de8-87d1-e7a06d86914b",
   "metadata": {},
   "outputs": [],
   "source": []
  },
  {
   "cell_type": "code",
   "execution_count": null,
   "id": "88ff010e-fce8-4279-88b1-e8e5de81dcb9",
   "metadata": {},
   "outputs": [],
   "source": []
  },
  {
   "cell_type": "code",
   "execution_count": null,
   "id": "4009acbd-be16-4dc6-b0b0-7050b872fbd8",
   "metadata": {},
   "outputs": [],
   "source": []
  },
  {
   "cell_type": "code",
   "execution_count": 3,
   "id": "9207ef1a-86e9-450b-a990-309756c63da6",
   "metadata": {
    "scrolled": true
   },
   "outputs": [
    {
     "data": {
      "text/html": [
       "<div>\n",
       "<style scoped>\n",
       "    .dataframe tbody tr th:only-of-type {\n",
       "        vertical-align: middle;\n",
       "    }\n",
       "\n",
       "    .dataframe tbody tr th {\n",
       "        vertical-align: top;\n",
       "    }\n",
       "\n",
       "    .dataframe thead th {\n",
       "        text-align: right;\n",
       "    }\n",
       "</style>\n",
       "<table border=\"1\" class=\"dataframe\">\n",
       "  <thead>\n",
       "    <tr style=\"text-align: right;\">\n",
       "      <th></th>\n",
       "      <th>depthTop</th>\n",
       "      <th>thickness</th>\n",
       "      <th>density</th>\n",
       "      <th>specSurfArea</th>\n",
       "    </tr>\n",
       "  </thead>\n",
       "  <tbody>\n",
       "    <tr>\n",
       "      <th>0</th>\n",
       "      <td>0.0</td>\n",
       "      <td>15.1</td>\n",
       "      <td>122.65</td>\n",
       "      <td>52.93</td>\n",
       "    </tr>\n",
       "    <tr>\n",
       "      <th>1</th>\n",
       "      <td>15.1</td>\n",
       "      <td>0.2</td>\n",
       "      <td>178.25</td>\n",
       "      <td>39.21</td>\n",
       "    </tr>\n",
       "    <tr>\n",
       "      <th>2</th>\n",
       "      <td>15.3</td>\n",
       "      <td>0.1</td>\n",
       "      <td>163.13</td>\n",
       "      <td>47.18</td>\n",
       "    </tr>\n",
       "    <tr>\n",
       "      <th>3</th>\n",
       "      <td>15.4</td>\n",
       "      <td>2.4</td>\n",
       "      <td>167.79</td>\n",
       "      <td>39.91</td>\n",
       "    </tr>\n",
       "    <tr>\n",
       "      <th>4</th>\n",
       "      <td>17.8</td>\n",
       "      <td>0.3</td>\n",
       "      <td>151.16</td>\n",
       "      <td>44.91</td>\n",
       "    </tr>\n",
       "    <tr>\n",
       "      <th>5</th>\n",
       "      <td>18.1</td>\n",
       "      <td>0.8</td>\n",
       "      <td>143.80</td>\n",
       "      <td>40.90</td>\n",
       "    </tr>\n",
       "    <tr>\n",
       "      <th>6</th>\n",
       "      <td>18.9</td>\n",
       "      <td>0.1</td>\n",
       "      <td>132.91</td>\n",
       "      <td>43.93</td>\n",
       "    </tr>\n",
       "    <tr>\n",
       "      <th>7</th>\n",
       "      <td>19.0</td>\n",
       "      <td>4.1</td>\n",
       "      <td>156.84</td>\n",
       "      <td>39.25</td>\n",
       "    </tr>\n",
       "    <tr>\n",
       "      <th>8</th>\n",
       "      <td>23.1</td>\n",
       "      <td>0.1</td>\n",
       "      <td>138.50</td>\n",
       "      <td>43.60</td>\n",
       "    </tr>\n",
       "    <tr>\n",
       "      <th>9</th>\n",
       "      <td>23.2</td>\n",
       "      <td>2.3</td>\n",
       "      <td>154.81</td>\n",
       "      <td>39.03</td>\n",
       "    </tr>\n",
       "    <tr>\n",
       "      <th>10</th>\n",
       "      <td>25.5</td>\n",
       "      <td>0.2</td>\n",
       "      <td>145.83</td>\n",
       "      <td>45.48</td>\n",
       "    </tr>\n",
       "    <tr>\n",
       "      <th>11</th>\n",
       "      <td>25.7</td>\n",
       "      <td>1.2</td>\n",
       "      <td>183.94</td>\n",
       "      <td>36.58</td>\n",
       "    </tr>\n",
       "    <tr>\n",
       "      <th>12</th>\n",
       "      <td>26.9</td>\n",
       "      <td>0.1</td>\n",
       "      <td>156.88</td>\n",
       "      <td>44.89</td>\n",
       "    </tr>\n",
       "    <tr>\n",
       "      <th>13</th>\n",
       "      <td>27.0</td>\n",
       "      <td>21.8</td>\n",
       "      <td>205.07</td>\n",
       "      <td>35.54</td>\n",
       "    </tr>\n",
       "    <tr>\n",
       "      <th>14</th>\n",
       "      <td>48.8</td>\n",
       "      <td>1.6</td>\n",
       "      <td>293.86</td>\n",
       "      <td>9.73</td>\n",
       "    </tr>\n",
       "    <tr>\n",
       "      <th>15</th>\n",
       "      <td>50.4</td>\n",
       "      <td>0.1</td>\n",
       "      <td>228.55</td>\n",
       "      <td>20.71</td>\n",
       "    </tr>\n",
       "    <tr>\n",
       "      <th>16</th>\n",
       "      <td>50.5</td>\n",
       "      <td>0.2</td>\n",
       "      <td>239.33</td>\n",
       "      <td>16.49</td>\n",
       "    </tr>\n",
       "    <tr>\n",
       "      <th>17</th>\n",
       "      <td>50.7</td>\n",
       "      <td>5.0</td>\n",
       "      <td>202.11</td>\n",
       "      <td>27.76</td>\n",
       "    </tr>\n",
       "    <tr>\n",
       "      <th>18</th>\n",
       "      <td>55.7</td>\n",
       "      <td>0.7</td>\n",
       "      <td>335.74</td>\n",
       "      <td>0.71</td>\n",
       "    </tr>\n",
       "    <tr>\n",
       "      <th>19</th>\n",
       "      <td>56.4</td>\n",
       "      <td>0.4</td>\n",
       "      <td>424.20</td>\n",
       "      <td>-4.82</td>\n",
       "    </tr>\n",
       "  </tbody>\n",
       "</table>\n",
       "</div>"
      ],
      "text/plain": [
       "    depthTop  thickness  density  specSurfArea\n",
       "0        0.0       15.1   122.65         52.93\n",
       "1       15.1        0.2   178.25         39.21\n",
       "2       15.3        0.1   163.13         47.18\n",
       "3       15.4        2.4   167.79         39.91\n",
       "4       17.8        0.3   151.16         44.91\n",
       "5       18.1        0.8   143.80         40.90\n",
       "6       18.9        0.1   132.91         43.93\n",
       "7       19.0        4.1   156.84         39.25\n",
       "8       23.1        0.1   138.50         43.60\n",
       "9       23.2        2.3   154.81         39.03\n",
       "10      25.5        0.2   145.83         45.48\n",
       "11      25.7        1.2   183.94         36.58\n",
       "12      26.9        0.1   156.88         44.89\n",
       "13      27.0       21.8   205.07         35.54\n",
       "14      48.8        1.6   293.86          9.73\n",
       "15      50.4        0.1   228.55         20.71\n",
       "16      50.5        0.2   239.33         16.49\n",
       "17      50.7        5.0   202.11         27.76\n",
       "18      55.7        0.7   335.74          0.71\n",
       "19      56.4        0.4   424.20         -4.82"
      ]
     },
     "execution_count": 3,
     "metadata": {},
     "output_type": "execute_result"
    }
   ],
   "source": [
    "def read_from_caaml(filepath, prof_type):\n",
    "    \"\"\"small CAAML reader This routine reads the :prof_type data from a CAAML XML file:\n",
    "        Most likely the values are parameterized from a shot noise model for the\n",
    "        SMP forces. However it also can read manual profiles:\n",
    "\n",
    "    :param filepath: Filename of the *.caaml file.\n",
    "    :param prof_type: either \"specSurfArea\" or density \"density\" \n",
    "    \"\"\"\n",
    "   \n",
    "    tree = et.parse(file_path)\n",
    "    xroot = tree.getroot()\n",
    "    data = []\n",
    "    child_snowProfileResultsOf = xroot.find(caaml_ns + 'snowProfileResultsOf')\n",
    "    child_SnowProfileMeasurements = child_snowProfileResultsOf.find(caaml_ns + 'SnowProfileMeasurements')\n",
    "    child_Profile = child_SnowProfileMeasurements.find(caaml_ns + prof_type + 'Profile')\n",
    "    child_Layer = child_Profile.find(caaml_ns + 'Layer')  \n",
    "    for layer in child_Profile:\n",
    "        try:\n",
    "            data.append({\n",
    "            \"depthTop\": float(layer.find(caaml_ns + 'depthTop').text),\n",
    "            \"thickness\": float(layer.find(caaml_ns + 'thickness').text),\n",
    "            prof_type: float(layer.find(caaml_ns + prof_type).text)\n",
    "        })\n",
    "        except:\n",
    "            pass\n",
    "    df = pd.DataFrame(data)\n",
    "    return(df)\n",
    "    \n",
    "df_caaml = read_from_caaml(file_path, \"density\").merge(read_from_caaml(file_path, \"specSurfArea\"))\n",
    "df_caaml"
   ]
  }
 ],
 "metadata": {
  "kernelspec": {
   "display_name": "Python 3 (ipykernel)",
   "language": "python",
   "name": "python3"
  },
  "language_info": {
   "codemirror_mode": {
    "name": "ipython",
    "version": 3
   },
   "file_extension": ".py",
   "mimetype": "text/x-python",
   "name": "python",
   "nbconvert_exporter": "python",
   "pygments_lexer": "ipython3",
   "version": "3.12.8"
  }
 },
 "nbformat": 4,
 "nbformat_minor": 5
}
