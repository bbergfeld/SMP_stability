


from lxml import etree as et
import os
import pandas as pd
import numpy as np
import matplotlib.pyplot as plt
sys.path.append('D:\\SMP_stability\\weac')
import weac as weac
caaml_ns = "{http://caaml.org/Schemas/SnowProfileIACS/v6.0.3}"

def mm2m(df):
    return(df/1000)


smp_deriv_file_path = '.pnt_data\\190110_BUN\\SMP\\FILE0245_smp_ful.pkl'  # Replace with a template file_path
layered_file_path = '.pnt_data\\190110_BUN\\SMP\\FILE0245_smp_lay.pkl'  # Replace with a template file_path





df_pkl = pd.read_pickle(smp_deriv_file_path)
df_pkl_layered = pd.read_pickle(layered_file_path)


from Emod_parametrizations import e_gerling_2017_AC
df_pkl_layered['G2017_E_AC'] = df_pkl_layered['CR2020_density'].apply(e_gerling_2017_AC) 





df_pkl_layered["JS1999_sigma_n"] = df_pkl_layered.L2012_f0 / (df_pkl_layered.L2012_L * df_pkl_layered.L2012_L) 
df_pkl_layered.JS1999_sigma_n.attr = "N/mm^2 - Microstructural element compressive strength "
df_pkl_layered["JS1999_sigma_macro"] = df_pkl_layered.JS1999_sigma_n * (df_pkl_layered.L2012_delta / df_pkl_layered.L2012_L)
df_pkl_layered.JS1999_sigma_macro.attr = "N/mm^2 - macroscale compressive strength"





layer_weight = df_pkl_layered.CR2020_density * mm2m(df_pkl_layered.thickness) # kg/m^2
layer_weight = layer_weight.cumsum().shift(1, fill_value=0) # adding up the weight and just taking the weights above
layer_weight = layer_weight * 9.81 # kg/m^2 * m/s^2 = N/m^2 = Pa
df_pkl_layered["load_above"] = layer_weight
df_pkl_layered.load_above.attrs['unit'] = "kg/m^2"


df_pkl_layered.keys()











density = df_pkl_layered["CR2020_density"].values
thickness = df_pkl_layered["thickness"].values
my_full_profile = np.column_stack((density, thickness))

weak_layer_id = 14
myprofile = my_full_profile[:weak_layer_id,:].tolist()





skier = weac.Layered(system='skier', layers=myprofile)


weac.plot.slab_profile(skier )


%%time
totallength = 1e4                       # Total length (mm)
cracklength = 300                        # Crack length (mm)
inclination = 0                        # Slope inclination (°)
skierweight = 80                        # Skier weigth (kg)

seg_skier = skier.calc_segments(L=totallength, a=cracklength, m=skierweight)['nocrack']

C_skier = skier.assemble_and_solve(phi=inclination, **seg_skier)

# Prepare the output by rasterizing the solution vector at all
# horizontal positions xsl (slab). The result is returned in the
# form of the ndarray z. Also provides xwl (weak layer) that only
# contains x-coordinates that are supported by a foundation.
xsl_skier, z_skier, xwl_skier = skier.rasterize_solution(C=C_skier, phi=inclination, **seg_skier)


%%time
weac.plot.deformed(skier, xsl=xsl_skier, xwl=xwl_skier, z=z_skier,
                   phi=inclination, window=400, scale=500, aspect=2,
                   field='Txz')


%%time
a = weac.plot.stresses(skier, x=xwl_skier, z=z_skier, **seg_skier)
df_pkl_layered["JS1999_sigma_macro"][weak_layer_id]






xwl_skier

















def read_from_caaml(filepath, prof_type):
    """small CAAML reader This routine reads the :prof_type data from a CAAML XML file:
        Most likely the values are parameterized from a shot noise model for the
        SMP forces. However it also can read manual profiles:

    :param filepath: Filename of the *.caaml file.
    :param prof_type: either "specSurfArea" or density "density" 
    """
   
    tree = et.parse(file_path)
    xroot = tree.getroot()
    data = []
    child_snowProfileResultsOf = xroot.find(caaml_ns + 'snowProfileResultsOf')
    child_SnowProfileMeasurements = child_snowProfileResultsOf.find(caaml_ns + 'SnowProfileMeasurements')
    child_Profile = child_SnowProfileMeasurements.find(caaml_ns + prof_type + 'Profile')
    child_Layer = child_Profile.find(caaml_ns + 'Layer')  
    for layer in child_Profile:
        try:
            data.append({
            "depthTop": float(layer.find(caaml_ns + 'depthTop').text),
            "thickness": float(layer.find(caaml_ns + 'thickness').text),
            prof_type: float(layer.find(caaml_ns + prof_type).text)
        })
        except:
            pass
    df = pd.DataFrame(data)
    return(df)
    
df_caaml = read_from_caaml(file_path, "density").merge(read_from_caaml(file_path, "specSurfArea"))
df_caaml
